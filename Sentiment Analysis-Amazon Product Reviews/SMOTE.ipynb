{
 "cells": [
  {
   "cell_type": "code",
   "execution_count": 1,
   "metadata": {},
   "outputs": [],
   "source": [
    "# importing Dependencies\n",
    "import pandas as pd\n",
    "import numpy as np\n",
    "import plotly.express as px\n",
    "import nltk\n",
    "import re"
   ]
  },
  {
   "cell_type": "code",
   "execution_count": 2,
   "metadata": {},
   "outputs": [
    {
     "data": {
      "text/html": [
       "<div>\n",
       "<style scoped>\n",
       "    .dataframe tbody tr th:only-of-type {\n",
       "        vertical-align: middle;\n",
       "    }\n",
       "\n",
       "    .dataframe tbody tr th {\n",
       "        vertical-align: top;\n",
       "    }\n",
       "\n",
       "    .dataframe thead th {\n",
       "        text-align: right;\n",
       "    }\n",
       "</style>\n",
       "<table border=\"1\" class=\"dataframe\">\n",
       "  <thead>\n",
       "    <tr style=\"text-align: right;\">\n",
       "      <th></th>\n",
       "      <th>product_name</th>\n",
       "      <th>title</th>\n",
       "      <th>stars</th>\n",
       "      <th>body</th>\n",
       "    </tr>\n",
       "  </thead>\n",
       "  <tbody>\n",
       "    <tr>\n",
       "      <th>0</th>\n",
       "      <td>Echo Dot (3rd Gen) – New and improved smart sp...</td>\n",
       "      <td>Google is infinitely better</td>\n",
       "      <td>1.0</td>\n",
       "      <td>Even the best devices can be ruined by poor so...</td>\n",
       "    </tr>\n",
       "    <tr>\n",
       "      <th>1</th>\n",
       "      <td>Echo Dot (3rd Gen) – New and improved smart sp...</td>\n",
       "      <td>Not that useful</td>\n",
       "      <td>3.0</td>\n",
       "      <td>I purchased this as a birthday gift for my 7 y...</td>\n",
       "    </tr>\n",
       "    <tr>\n",
       "      <th>2</th>\n",
       "      <td>Echo Dot (3rd Gen) – New and improved smart sp...</td>\n",
       "      <td>Echo Dot never plays original songs, (No way t...</td>\n",
       "      <td>1.0</td>\n",
       "      <td>The media could not be loaded.\\n              ...</td>\n",
       "    </tr>\n",
       "    <tr>\n",
       "      <th>3</th>\n",
       "      <td>Echo Dot (3rd Gen) – New and improved smart sp...</td>\n",
       "      <td>I recommend one more accessory</td>\n",
       "      <td>5.0</td>\n",
       "      <td>Its just one if the best deal i ever got on am...</td>\n",
       "    </tr>\n",
       "    <tr>\n",
       "      <th>4</th>\n",
       "      <td>Echo Dot (3rd Gen) – New and improved smart sp...</td>\n",
       "      <td>Amazon is selling an experimental product.</td>\n",
       "      <td>1.0</td>\n",
       "      <td>Before buying this product please keep these p...</td>\n",
       "    </tr>\n",
       "  </tbody>\n",
       "</table>\n",
       "</div>"
      ],
      "text/plain": [
       "                                        product_name  \\\n",
       "0  Echo Dot (3rd Gen) – New and improved smart sp...   \n",
       "1  Echo Dot (3rd Gen) – New and improved smart sp...   \n",
       "2  Echo Dot (3rd Gen) – New and improved smart sp...   \n",
       "3  Echo Dot (3rd Gen) – New and improved smart sp...   \n",
       "4  Echo Dot (3rd Gen) – New and improved smart sp...   \n",
       "\n",
       "                                               title  stars  \\\n",
       "0                        Google is infinitely better    1.0   \n",
       "1                                    Not that useful    3.0   \n",
       "2  Echo Dot never plays original songs, (No way t...    1.0   \n",
       "3                     I recommend one more accessory    5.0   \n",
       "4         Amazon is selling an experimental product.    1.0   \n",
       "\n",
       "                                                body  \n",
       "0  Even the best devices can be ruined by poor so...  \n",
       "1  I purchased this as a birthday gift for my 7 y...  \n",
       "2  The media could not be loaded.\\n              ...  \n",
       "3  Its just one if the best deal i ever got on am...  \n",
       "4  Before buying this product please keep these p...  "
      ]
     },
     "execution_count": 2,
     "metadata": {},
     "output_type": "execute_result"
    }
   ],
   "source": [
    "df = pd.read_csv(r'alexa_reviews.csv')\n",
    "df.head()"
   ]
  },
  {
   "cell_type": "code",
   "execution_count": 3,
   "metadata": {},
   "outputs": [
    {
     "ename": "SyntaxError",
     "evalue": "invalid syntax (<ipython-input-3-8d3a189e88a7>, line 1)",
     "output_type": "error",
     "traceback": [
      "\u001b[1;36m  File \u001b[1;32m\"<ipython-input-3-8d3a189e88a7>\"\u001b[1;36m, line \u001b[1;32m1\u001b[0m\n\u001b[1;33m    sudo pip install imbalanced-learn\u001b[0m\n\u001b[1;37m         ^\u001b[0m\n\u001b[1;31mSyntaxError\u001b[0m\u001b[1;31m:\u001b[0m invalid syntax\n"
     ]
    }
   ],
   "source": []
  }
 ],
 "metadata": {
  "interpreter": {
   "hash": "c5e48f84046969b800ff52f6d80523bcd1ca3fb1a99f1449e4197bf6c73dc096"
  },
  "kernelspec": {
   "display_name": "Python 3",
   "language": "python",
   "name": "python3"
  },
  "language_info": {
   "codemirror_mode": {
    "name": "ipython",
    "version": 3
   },
   "file_extension": ".py",
   "mimetype": "text/x-python",
   "name": "python",
   "nbconvert_exporter": "python",
   "pygments_lexer": "ipython3",
   "version": "3.8.5"
  }
 },
 "nbformat": 4,
 "nbformat_minor": 2
}
